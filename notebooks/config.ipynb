{
 "cells": [
  {
   "cell_type": "markdown",
   "metadata": {},
   "source": [
    "# Configuration"
   ]
  },
  {
   "cell_type": "code",
   "execution_count": 9,
   "metadata": {
    "collapsed": true
   },
   "outputs": [],
   "source": [
    "from evolving_networks.config import Config\n",
    "from evolving_networks.population import Population\n",
    "from evolving_networks.reproduction import Reproduction"
   ]
  },
  {
   "cell_type": "code",
   "execution_count": 10,
   "metadata": {
    "collapsed": true
   },
   "outputs": [],
   "source": [
    "config = Config(filename='config/config_1.ini')"
   ]
  },
  {
   "cell_type": "code",
   "execution_count": 11,
   "metadata": {
    "collapsed": true
   },
   "outputs": [],
   "source": [
    "p = Population(Reproduction())\n",
    "p.initialize(config)"
   ]
  },
  {
   "cell_type": "code",
   "execution_count": 82,
   "metadata": {},
   "outputs": [],
   "source": [
    "def build_essential_list(output_keys, connections):\n",
    "    essentails = {}\n",
    "    for output_key in output_keys:\n",
    "        e = [[output_key]]\n",
    "        while True:\n",
    "            essential = set(source_id for (source_id, target_id) in connections if target_id in e[-1] and source_id not in e[-1])\n",
    "            if not essential:\n",
    "                break\n",
    "            e.append(list(essential))\n",
    "        essentails[output_key] = e\n",
    "    return essentails"
   ]
  },
  {
   "cell_type": "code",
   "execution_count": 83,
   "metadata": {},
   "outputs": [],
   "source": [
    "output_keys = set([9, 10, 11])\n",
    "connections = [(2,7), (2,8), (0,2), (0,3), (1,3), (3,7), (4,7), (6,9), (7,11), (8,11), (0, 11),  (2,10), (7,7),  (8,7)]"
   ]
  },
  {
   "cell_type": "code",
   "execution_count": 84,
   "metadata": {},
   "outputs": [
    {
     "data": {
      "text/plain": [
       "{9: [[9], [6]], 10: [[10], [2], [0]], 11: [[11], [8, 0, 7], [2, 3, 4], [0, 1]]}"
      ]
     },
     "execution_count": 84,
     "metadata": {},
     "output_type": "execute_result"
    }
   ],
   "source": [
    "build_essential_list(output_keys, connections)"
   ]
  },
  {
   "cell_type": "code",
   "execution_count": 85,
   "metadata": {
    "collapsed": true
   },
   "outputs": [],
   "source": [
    "output_keys = set([19, 20])\n",
    "connections = [(0,12),(0,8),(0,19),(0,5),(1,4),(1,16),(1,6),(2,7),(2,18),(3,10),(3,7),(3,20),(4,19),(4,12),(5,9),(5,17),(6,12),(7,10),(7,18),(7,20),(8,19),(9,12),(9,17),(11,20),(11,18),(12,19),(12,16), (14,20),(14,18),(16,19),(17,19),(18,20)]"
   ]
  },
  {
   "cell_type": "code",
   "execution_count": 86,
   "metadata": {},
   "outputs": [
    {
     "data": {
      "text/plain": [
       "{19: [[19], [0, 4, 8, 12, 16, 17], [1, 5, 6, 9], [0]],\n",
       " 20: [[20], [3, 7, 11, 14, 18], [2]]}"
      ]
     },
     "execution_count": 86,
     "metadata": {},
     "output_type": "execute_result"
    }
   ],
   "source": [
    "build_essential_list(output_keys, connections)"
   ]
  },
  {
   "cell_type": "code",
   "execution_count": 109,
   "metadata": {
    "collapsed": true
   },
   "outputs": [],
   "source": [
    "keys = set([0,1,2,3,4,5,6,7,8,9,10,11,12,13,14,15,16,17,18,19,20])\n",
    "connections = [(9,9),(8,9),(6,6),(0,12),(0,8),(0,19),(0,5),(1,4),(1,6),(1,16),(2,7),(2,18),(3,10),(3,7),(3,20),(4,19),(4,12),(5,9),(5,17),(6,12),(7,10),(7,18),(7,20),(8,19),(9,12),(9,17),(11,20),(11,18),(12,19),(12,16), (14,20),(14,18),(16,19),(17,19),(18,20)]"
   ]
  },
  {
   "cell_type": "code",
   "execution_count": 110,
   "metadata": {},
   "outputs": [
    {
     "data": {
      "text/plain": [
       "{0: [[0]],\n",
       " 1: [[1]],\n",
       " 2: [[2]],\n",
       " 3: [[3]],\n",
       " 4: [[4], [1]],\n",
       " 5: [[5], [0]],\n",
       " 6: [[6], [1]],\n",
       " 7: [[7], [2, 3]],\n",
       " 8: [[8], [0]],\n",
       " 9: [[9], [8, 5], [0]],\n",
       " 10: [[10], [3, 7], [2]],\n",
       " 11: [[11]],\n",
       " 12: [[12], [0, 9, 4, 6], [8, 1, 5], [0]],\n",
       " 13: [[13]],\n",
       " 14: [[14]],\n",
       " 15: [[15]],\n",
       " 16: [[16], [1, 12], [0, 9, 4, 6], [8, 1, 5], [0]],\n",
       " 17: [[17], [9, 5], [8, 0]],\n",
       " 18: [[18], [2, 11, 14, 7], [3]],\n",
       " 19: [[19], [0, 4, 8, 12, 16, 17], [1, 5, 6, 9], [8, 0]],\n",
       " 20: [[20], [3, 7, 11, 14, 18], [2]]}"
      ]
     },
     "execution_count": 110,
     "metadata": {},
     "output_type": "execute_result"
    }
   ],
   "source": [
    "tree = build_essential_list(keys, connections)\n",
    "tree"
   ]
  },
  {
   "cell_type": "code",
   "execution_count": 111,
   "metadata": {},
   "outputs": [],
   "source": [
    "def recursion_func(tree, key, node_path):\n",
    "    value_list = tree[key]\n",
    "    if len(value_list) == 1:\n",
    "        node_path.append(value_list[0][0])  \n",
    "    else:\n",
    "        for value_set in reversed(value_list):\n",
    "            for value_key in value_set: \n",
    "                if key == value_key:\n",
    "                    node_path.append(value_key)  \n",
    "                    break\n",
    "                recursion_func(tree, value_key, node_path)\n",
    "                \n",
    "node_path = []\n",
    "recursion_func(tree, 20, node_path)"
   ]
  },
  {
   "cell_type": "code",
   "execution_count": 112,
   "metadata": {},
   "outputs": [
    {
     "data": {
      "text/plain": [
       "[2, 3, 7, 11, 14, 18, 20]"
      ]
     },
     "execution_count": 112,
     "metadata": {},
     "output_type": "execute_result"
    }
   ],
   "source": [
    "activation_flow = []\n",
    "for n in node_path:\n",
    "    if n not in activation_flow:\n",
    "        activation_flow.append(n)\n",
    "activation_flow"
   ]
  },
  {
   "cell_type": "code",
   "execution_count": null,
   "metadata": {
    "collapsed": true
   },
   "outputs": [],
   "source": []
  }
 ],
 "metadata": {
  "kernelspec": {
   "display_name": "Python 3",
   "language": "python",
   "name": "python3"
  },
  "language_info": {
   "codemirror_mode": {
    "name": "ipython",
    "version": 3
   },
   "file_extension": ".py",
   "mimetype": "text/x-python",
   "name": "python",
   "nbconvert_exporter": "python",
   "pygments_lexer": "ipython3",
   "version": "3.6.1"
  }
 },
 "nbformat": 4,
 "nbformat_minor": 2
}
