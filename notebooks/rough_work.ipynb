{
 "cells": [
  {
   "cell_type": "code",
   "execution_count": 1,
   "metadata": {
    "collapsed": true
   },
   "outputs": [],
   "source": [
    "import pandas as pd\n",
    "import numpy as np\n",
    "import random\n",
    "from sklearn.cluster import KMeans"
   ]
  },
  {
   "cell_type": "code",
   "execution_count": 2,
   "metadata": {
    "collapsed": true
   },
   "outputs": [],
   "source": [
    "distance = {k: random.random() for k in range(10)}"
   ]
  },
  {
   "cell_type": "code",
   "execution_count": 11,
   "metadata": {
    "collapsed": true
   },
   "outputs": [],
   "source": [
    "matrix = {k: [] for k in distance.keys()}\n",
    "for k1, v1 in distance.items():\n",
    "    for k2, v2 in distance.items():\n",
    "        matrix[k2].append(v1-v2)"
   ]
  },
  {
   "cell_type": "code",
   "execution_count": 12,
   "metadata": {},
   "outputs": [
    {
     "data": {
      "text/html": [
       "<div>\n",
       "<style scoped>\n",
       "    .dataframe tbody tr th:only-of-type {\n",
       "        vertical-align: middle;\n",
       "    }\n",
       "\n",
       "    .dataframe tbody tr th {\n",
       "        vertical-align: top;\n",
       "    }\n",
       "\n",
       "    .dataframe thead th {\n",
       "        text-align: right;\n",
       "    }\n",
       "</style>\n",
       "<table border=\"1\" class=\"dataframe\">\n",
       "  <thead>\n",
       "    <tr style=\"text-align: right;\">\n",
       "      <th></th>\n",
       "      <th>0</th>\n",
       "      <th>1</th>\n",
       "      <th>2</th>\n",
       "      <th>3</th>\n",
       "      <th>4</th>\n",
       "      <th>5</th>\n",
       "      <th>6</th>\n",
       "      <th>7</th>\n",
       "      <th>8</th>\n",
       "      <th>9</th>\n",
       "    </tr>\n",
       "  </thead>\n",
       "  <tbody>\n",
       "    <tr>\n",
       "      <th>0</th>\n",
       "      <td>0.000000</td>\n",
       "      <td>-0.162184</td>\n",
       "      <td>-0.068379</td>\n",
       "      <td>-0.603053</td>\n",
       "      <td>-0.432653</td>\n",
       "      <td>-0.721875</td>\n",
       "      <td>0.130584</td>\n",
       "      <td>-0.179671</td>\n",
       "      <td>-0.205880</td>\n",
       "      <td>0.026353</td>\n",
       "    </tr>\n",
       "    <tr>\n",
       "      <th>1</th>\n",
       "      <td>0.162184</td>\n",
       "      <td>0.000000</td>\n",
       "      <td>0.093805</td>\n",
       "      <td>-0.440869</td>\n",
       "      <td>-0.270469</td>\n",
       "      <td>-0.559691</td>\n",
       "      <td>0.292768</td>\n",
       "      <td>-0.017487</td>\n",
       "      <td>-0.043696</td>\n",
       "      <td>0.188537</td>\n",
       "    </tr>\n",
       "    <tr>\n",
       "      <th>2</th>\n",
       "      <td>0.068379</td>\n",
       "      <td>-0.093805</td>\n",
       "      <td>0.000000</td>\n",
       "      <td>-0.534674</td>\n",
       "      <td>-0.364274</td>\n",
       "      <td>-0.653496</td>\n",
       "      <td>0.198963</td>\n",
       "      <td>-0.111292</td>\n",
       "      <td>-0.137501</td>\n",
       "      <td>0.094732</td>\n",
       "    </tr>\n",
       "    <tr>\n",
       "      <th>3</th>\n",
       "      <td>0.603053</td>\n",
       "      <td>0.440869</td>\n",
       "      <td>0.534674</td>\n",
       "      <td>0.000000</td>\n",
       "      <td>0.170400</td>\n",
       "      <td>-0.118822</td>\n",
       "      <td>0.733637</td>\n",
       "      <td>0.423382</td>\n",
       "      <td>0.397173</td>\n",
       "      <td>0.629406</td>\n",
       "    </tr>\n",
       "    <tr>\n",
       "      <th>4</th>\n",
       "      <td>0.432653</td>\n",
       "      <td>0.270469</td>\n",
       "      <td>0.364274</td>\n",
       "      <td>-0.170400</td>\n",
       "      <td>0.000000</td>\n",
       "      <td>-0.289222</td>\n",
       "      <td>0.563237</td>\n",
       "      <td>0.252982</td>\n",
       "      <td>0.226774</td>\n",
       "      <td>0.459006</td>\n",
       "    </tr>\n",
       "    <tr>\n",
       "      <th>5</th>\n",
       "      <td>0.721875</td>\n",
       "      <td>0.559691</td>\n",
       "      <td>0.653496</td>\n",
       "      <td>0.118822</td>\n",
       "      <td>0.289222</td>\n",
       "      <td>0.000000</td>\n",
       "      <td>0.852459</td>\n",
       "      <td>0.542204</td>\n",
       "      <td>0.515995</td>\n",
       "      <td>0.748228</td>\n",
       "    </tr>\n",
       "    <tr>\n",
       "      <th>6</th>\n",
       "      <td>-0.130584</td>\n",
       "      <td>-0.292768</td>\n",
       "      <td>-0.198963</td>\n",
       "      <td>-0.733637</td>\n",
       "      <td>-0.563237</td>\n",
       "      <td>-0.852459</td>\n",
       "      <td>0.000000</td>\n",
       "      <td>-0.310255</td>\n",
       "      <td>-0.336464</td>\n",
       "      <td>-0.104231</td>\n",
       "    </tr>\n",
       "    <tr>\n",
       "      <th>7</th>\n",
       "      <td>0.179671</td>\n",
       "      <td>0.017487</td>\n",
       "      <td>0.111292</td>\n",
       "      <td>-0.423382</td>\n",
       "      <td>-0.252982</td>\n",
       "      <td>-0.542204</td>\n",
       "      <td>0.310255</td>\n",
       "      <td>0.000000</td>\n",
       "      <td>-0.026209</td>\n",
       "      <td>0.206024</td>\n",
       "    </tr>\n",
       "    <tr>\n",
       "      <th>8</th>\n",
       "      <td>0.205880</td>\n",
       "      <td>0.043696</td>\n",
       "      <td>0.137501</td>\n",
       "      <td>-0.397173</td>\n",
       "      <td>-0.226774</td>\n",
       "      <td>-0.515995</td>\n",
       "      <td>0.336464</td>\n",
       "      <td>0.026209</td>\n",
       "      <td>0.000000</td>\n",
       "      <td>0.232233</td>\n",
       "    </tr>\n",
       "    <tr>\n",
       "      <th>9</th>\n",
       "      <td>-0.026353</td>\n",
       "      <td>-0.188537</td>\n",
       "      <td>-0.094732</td>\n",
       "      <td>-0.629406</td>\n",
       "      <td>-0.459006</td>\n",
       "      <td>-0.748228</td>\n",
       "      <td>0.104231</td>\n",
       "      <td>-0.206024</td>\n",
       "      <td>-0.232233</td>\n",
       "      <td>0.000000</td>\n",
       "    </tr>\n",
       "  </tbody>\n",
       "</table>\n",
       "</div>"
      ],
      "text/plain": [
       "          0         1         2         3         4         5         6  \\\n",
       "0  0.000000 -0.162184 -0.068379 -0.603053 -0.432653 -0.721875  0.130584   \n",
       "1  0.162184  0.000000  0.093805 -0.440869 -0.270469 -0.559691  0.292768   \n",
       "2  0.068379 -0.093805  0.000000 -0.534674 -0.364274 -0.653496  0.198963   \n",
       "3  0.603053  0.440869  0.534674  0.000000  0.170400 -0.118822  0.733637   \n",
       "4  0.432653  0.270469  0.364274 -0.170400  0.000000 -0.289222  0.563237   \n",
       "5  0.721875  0.559691  0.653496  0.118822  0.289222  0.000000  0.852459   \n",
       "6 -0.130584 -0.292768 -0.198963 -0.733637 -0.563237 -0.852459  0.000000   \n",
       "7  0.179671  0.017487  0.111292 -0.423382 -0.252982 -0.542204  0.310255   \n",
       "8  0.205880  0.043696  0.137501 -0.397173 -0.226774 -0.515995  0.336464   \n",
       "9 -0.026353 -0.188537 -0.094732 -0.629406 -0.459006 -0.748228  0.104231   \n",
       "\n",
       "          7         8         9  \n",
       "0 -0.179671 -0.205880  0.026353  \n",
       "1 -0.017487 -0.043696  0.188537  \n",
       "2 -0.111292 -0.137501  0.094732  \n",
       "3  0.423382  0.397173  0.629406  \n",
       "4  0.252982  0.226774  0.459006  \n",
       "5  0.542204  0.515995  0.748228  \n",
       "6 -0.310255 -0.336464 -0.104231  \n",
       "7  0.000000 -0.026209  0.206024  \n",
       "8  0.026209  0.000000  0.232233  \n",
       "9 -0.206024 -0.232233  0.000000  "
      ]
     },
     "execution_count": 12,
     "metadata": {},
     "output_type": "execute_result"
    }
   ],
   "source": [
    "df = pd.DataFrame(matrix)\n",
    "df.head(10)"
   ]
  },
  {
   "cell_type": "code",
   "execution_count": 17,
   "metadata": {
    "collapsed": true
   },
   "outputs": [],
   "source": [
    "x = [[0,0,0],[1,1,1],[2,2,2],[3,3,3],[4,4,4]]"
   ]
  },
  {
   "cell_type": "code",
   "execution_count": 18,
   "metadata": {
    "collapsed": true
   },
   "outputs": [],
   "source": [
    "clusters = KMeans(n_clusters=3, random_state=0).fit_predict(x)"
   ]
  },
  {
   "cell_type": "code",
   "execution_count": 21,
   "metadata": {},
   "outputs": [
    {
     "data": {
      "text/plain": [
       "array([[0., 0., 0., 0., 0., 0., 0., 0., 0., 0.],\n",
       "       [0., 0., 0., 0., 0., 0., 0., 0., 0., 0.],\n",
       "       [0., 0., 0., 0., 0., 0., 0., 0., 0., 0.],\n",
       "       [0., 0., 0., 0., 0., 0., 0., 0., 0., 0.],\n",
       "       [0., 0., 0., 0., 0., 0., 0., 0., 0., 0.],\n",
       "       [0., 0., 0., 0., 0., 0., 0., 0., 0., 0.],\n",
       "       [0., 0., 0., 0., 0., 0., 0., 0., 0., 0.],\n",
       "       [0., 0., 0., 0., 0., 0., 0., 0., 0., 0.],\n",
       "       [0., 0., 0., 0., 0., 0., 0., 0., 0., 0.],\n",
       "       [0., 0., 0., 0., 0., 0., 0., 0., 0., 0.]])"
      ]
     },
     "execution_count": 21,
     "metadata": {},
     "output_type": "execute_result"
    }
   ],
   "source": [
    "np.zeros((10,10))"
   ]
  },
  {
   "cell_type": "code",
   "execution_count": 33,
   "metadata": {},
   "outputs": [
    {
     "data": {
      "text/plain": [
       "array([ 0.00000000e+00, -5.06606887e-02,  2.78685333e-01,  5.57824703e-01,\n",
       "        4.01687064e-01,  3.90021916e-02,  2.84328316e-01, -1.72198261e-01,\n",
       "        1.51204466e-01, -2.14898429e-01,  5.56682605e-02,  1.07457565e-01,\n",
       "        5.35778589e-01,  1.62628198e-01,  3.23796736e-01, -1.43437776e-01,\n",
       "       -1.10969525e-01,  3.64850592e-01,  7.42719930e-01,  3.69168288e-01,\n",
       "        1.60461647e-01, -1.74712815e-03,  4.90042478e-01,  6.61221121e-01,\n",
       "        8.07767094e-02, -1.67990845e-01,  4.15065521e-01, -8.85808532e-02,\n",
       "        2.09284290e-01,  2.60497810e-01, -3.10987096e-02, -9.52294786e-02,\n",
       "        1.48320887e-01,  2.15290322e-01, -1.29484037e-01, -1.98149704e-01,\n",
       "        6.31523764e-01,  4.42261259e-01,  4.64052232e-01, -1.19402423e-01,\n",
       "        6.52106261e-01, -1.10266332e-01,  4.77403394e-01, -1.49695584e-01,\n",
       "       -1.45947179e-01,  1.80122745e-01,  2.46121890e-01,  2.31965890e-01,\n",
       "        1.67923324e-01,  2.92365420e-01,  3.79242203e-01,  4.51122462e-03,\n",
       "       -1.28534912e-01,  7.13993179e-01,  4.40893155e-01,  4.85692653e-01,\n",
       "       -1.75830365e-01,  6.62040245e-01, -2.01202045e-01,  6.71120110e-01,\n",
       "        2.61036417e-01, -9.24709133e-02,  7.07072066e-01,  6.49917479e-01,\n",
       "       -2.25262010e-01,  6.14949668e-01, -1.38217301e-01,  6.43219509e-01,\n",
       "        5.10810535e-01, -1.37731438e-01, -1.97218424e-01,  4.08288815e-01,\n",
       "        5.86625555e-01,  6.48828383e-01,  1.04986943e-01,  3.47820170e-01,\n",
       "       -5.02552998e-02, -1.64359133e-01,  3.89414883e-01,  2.95287124e-01,\n",
       "       -2.10024867e-01,  7.08492814e-01,  2.47125674e-01, -9.69273020e-02,\n",
       "       -5.99889265e-02,  5.20379947e-01,  6.43842961e-01,  3.52133645e-01,\n",
       "        2.96265540e-01, -2.14080264e-01, -1.54017524e-01,  2.55452210e-01,\n",
       "        6.97219908e-01,  5.74163354e-01,  2.71447672e-01, -8.78438528e-02,\n",
       "        1.00483170e-01,  2.84417527e-01,  5.80975781e-01,  6.54403087e-01,\n",
       "        1.08727200e-01, -9.03355359e-02,  4.07285111e-01, -2.30953381e-01,\n",
       "        2.32684787e-01,  5.60685207e-01,  7.27860761e-01,  5.50293235e-01,\n",
       "        2.33708242e-01,  2.76999158e-01,  6.14740630e-01,  4.54626493e-01,\n",
       "        1.85507141e-01,  5.12201458e-01,  7.26820371e-01,  2.62828077e-01,\n",
       "       -6.27596124e-02,  5.83537034e-02,  4.97749328e-01,  1.35566450e-01,\n",
       "        1.03953971e-01,  2.08914005e-01,  4.47114644e-01, -2.17799571e-01,\n",
       "        4.75633745e-01,  4.40474382e-01, -2.50209027e-01,  2.08293863e-01,\n",
       "        6.88827863e-01,  2.07696002e-01,  4.52612895e-01, -1.19291735e-01,\n",
       "        7.52058136e-02, -4.37578142e-02,  5.81821013e-01,  1.96153810e-01,\n",
       "        5.24585720e-01,  3.20376610e-04,  1.78649577e-01,  4.09071768e-01,\n",
       "       -2.30606557e-02,  2.57754862e-01,  5.99287226e-01,  5.99948259e-01,\n",
       "        7.44953065e-01, -2.43943864e-01,  4.81333019e-02, -6.75914135e-02,\n",
       "       -1.54255606e-01,  1.52975857e-01])"
      ]
     },
     "execution_count": 33,
     "metadata": {},
     "output_type": "execute_result"
    }
   ],
   "source": [
    "df.values[0]"
   ]
  },
  {
   "cell_type": "code",
   "execution_count": 1,
   "metadata": {
    "collapsed": true
   },
   "outputs": [],
   "source": [
    "import gym"
   ]
  },
  {
   "cell_type": "code",
   "execution_count": 15,
   "metadata": {},
   "outputs": [
    {
     "name": "stdout",
     "output_type": "stream",
     "text": [
      "\u001b[33mWARN: gym.spaces.Box autodetected dtype as <class 'numpy.float32'>. Please provide explicit dtype.\u001b[0m\n",
      "reward 29.0\n",
      "Episode finished after 29 timesteps\n",
      "reward 18.0\n",
      "Episode finished after 18 timesteps\n",
      "reward 17.0\n",
      "Episode finished after 17 timesteps\n",
      "reward 18.0\n",
      "Episode finished after 18 timesteps\n",
      "reward 20.0\n",
      "Episode finished after 20 timesteps\n",
      "reward 14.0\n",
      "Episode finished after 14 timesteps\n",
      "reward 14.0\n",
      "Episode finished after 14 timesteps\n",
      "reward 11.0\n",
      "Episode finished after 11 timesteps\n",
      "reward 13.0\n",
      "Episode finished after 13 timesteps\n",
      "reward 24.0\n",
      "Episode finished after 24 timesteps\n",
      "reward 21.0\n",
      "Episode finished after 21 timesteps\n",
      "reward 12.0\n",
      "Episode finished after 12 timesteps\n",
      "reward 45.0\n",
      "Episode finished after 45 timesteps\n",
      "reward 22.0\n",
      "Episode finished after 22 timesteps\n",
      "reward 24.0\n",
      "Episode finished after 24 timesteps\n",
      "reward 18.0\n",
      "Episode finished after 18 timesteps\n",
      "reward 14.0\n",
      "Episode finished after 14 timesteps\n",
      "reward 15.0\n",
      "Episode finished after 15 timesteps\n",
      "reward 15.0\n",
      "Episode finished after 15 timesteps\n",
      "reward 9.0\n",
      "Episode finished after 9 timesteps\n"
     ]
    }
   ],
   "source": [
    "env = gym.make('CartPole-v1')\n",
    "for i_episode in range(20):\n",
    "    observation = env.reset()\n",
    "    fitness = []\n",
    "    for t in range(100):\n",
    "        # env.render()\n",
    "        action = env.action_space.sample()\n",
    "        observation, reward, done, info = env.step(action)\n",
    "        fitness.append(reward)\n",
    "        if done:\n",
    "            print('reward {0}'.format(sum(fitness)))\n",
    "            print(\"Episode finished after {} timesteps\".format(t+1))\n",
    "            break"
   ]
  },
  {
   "cell_type": "code",
   "execution_count": 8,
   "metadata": {},
   "outputs": [
    {
     "ename": "TypeError",
     "evalue": "'Discrete' object does not support indexing",
     "output_type": "error",
     "traceback": [
      "\u001b[1;31m---------------------------------------------------------------------------\u001b[0m",
      "\u001b[1;31mTypeError\u001b[0m                                 Traceback (most recent call last)",
      "\u001b[1;32m<ipython-input-8-f4c406caa424>\u001b[0m in \u001b[0;36m<module>\u001b[1;34m()\u001b[0m\n\u001b[1;32m----> 1\u001b[1;33m \u001b[0menv\u001b[0m\u001b[1;33m.\u001b[0m\u001b[0maction_space\u001b[0m\u001b[1;33m[\u001b[0m\u001b[1;36m0\u001b[0m\u001b[1;33m]\u001b[0m\u001b[1;33m\u001b[0m\u001b[0m\n\u001b[0m",
      "\u001b[1;31mTypeError\u001b[0m: 'Discrete' object does not support indexing"
     ]
    }
   ],
   "source": [
    "env.action_space[0]"
   ]
  },
  {
   "cell_type": "code",
   "execution_count": 70,
   "metadata": {},
   "outputs": [
    {
     "data": {
      "text/plain": [
       "array([0.2, 0.4, 0.6, 1. ])"
      ]
     },
     "execution_count": 70,
     "metadata": {},
     "output_type": "execute_result"
    }
   ],
   "source": [
    "p = np.array([1,2,3,5])\n",
    "p = p / 5\n",
    "p"
   ]
  },
  {
   "cell_type": "code",
   "execution_count": 78,
   "metadata": {},
   "outputs": [
    {
     "data": {
      "text/plain": [
       "array(['a', 'b', 'c'], dtype='<U1')"
      ]
     },
     "execution_count": 78,
     "metadata": {},
     "output_type": "execute_result"
    }
   ],
   "source": [
    "n = np.array(list(d.values()))\n",
    "n"
   ]
  },
  {
   "cell_type": "code",
   "execution_count": 86,
   "metadata": {},
   "outputs": [
    {
     "data": {
      "text/plain": [
       "array([0.16666667, 0.33333333, 0.5       ])"
      ]
     },
     "execution_count": 86,
     "metadata": {},
     "output_type": "execute_result"
    }
   ],
   "source": [
    "np.array(list(d.keys())) / np.sum(list(d.keys()))"
   ]
  },
  {
   "cell_type": "code",
   "execution_count": 76,
   "metadata": {},
   "outputs": [
    {
     "data": {
      "text/plain": [
       "[1, 2, 3]"
      ]
     },
     "execution_count": 76,
     "metadata": {},
     "output_type": "execute_result"
    }
   ],
   "source": [
    "list(d.keys())"
   ]
  },
  {
   "cell_type": "code",
   "execution_count": 88,
   "metadata": {},
   "outputs": [
    {
     "data": {
      "text/plain": [
       "array([0.23148148, 0.33333333, 0.43518519])"
      ]
     },
     "execution_count": 88,
     "metadata": {},
     "output_type": "execute_result"
    }
   ],
   "source": [
    "d = {1:2.5,2:3.6,3:4.7}\n",
    "np.array(list(d.values())) / np.sum(list(d.values()))"
   ]
  },
  {
   "cell_type": "code",
   "execution_count": 97,
   "metadata": {
    "collapsed": true
   },
   "outputs": [],
   "source": [
    "import random\n",
    "import math\n",
    "def probabilistic_round(value):\n",
    "    integer_part = math.floor(value)\n",
    "    fractional_part = value - integer_part\n",
    "    return integer_part + 1.0 if random.random() < fractional_part else integer_part + 0.0"
   ]
  },
  {
   "cell_type": "code",
   "execution_count": 4,
   "metadata": {
    "collapsed": true
   },
   "outputs": [],
   "source": [
    "from itertools import count"
   ]
  },
  {
   "cell_type": "code",
   "execution_count": 9,
   "metadata": {
    "collapsed": true
   },
   "outputs": [],
   "source": [
    "cntr = count(0)"
   ]
  },
  {
   "cell_type": "code",
   "execution_count": 10,
   "metadata": {},
   "outputs": [
    {
     "name": "stdout",
     "output_type": "stream",
     "text": [
      "0\n",
      "1\n",
      "2\n",
      "3\n",
      "4\n"
     ]
    }
   ],
   "source": [
    "for _ in range(5):\n",
    "    print(next(cntr))"
   ]
  },
  {
   "cell_type": "code",
   "execution_count": 16,
   "metadata": {},
   "outputs": [
    {
     "name": "stdout",
     "output_type": "stream",
     "text": [
      "0 1 a\n",
      "1 2 b\n",
      "2 3 c\n",
      "3 4 d\n"
     ]
    }
   ],
   "source": [
    "def roll_over_d(d):\n",
    "    for x, y in d.items():\n",
    "        print(x, y)\n",
    "        \n",
    "d = {1:'a', 2:'b', 3:'c', 4:'d'}\n",
    "for i, (x, y) in enumerate(d.items()):\n",
    "    print(i, x, y)"
   ]
  },
  {
   "cell_type": "code",
   "execution_count": 1,
   "metadata": {
    "collapsed": true
   },
   "outputs": [],
   "source": [
    "import random\n",
    "import numpy as np"
   ]
  },
  {
   "cell_type": "code",
   "execution_count": 9,
   "metadata": {
    "collapsed": true
   },
   "outputs": [],
   "source": [
    "c1_set, c2_set = {1: 'a', 2: 'b', 3: 'c'}, {1: 'd', 6: 'e', 2: 'f', 7: 'g'}"
   ]
  },
  {
   "cell_type": "code",
   "execution_count": 57,
   "metadata": {
    "collapsed": true
   },
   "outputs": [],
   "source": [
    "l1 = [1,2,4,5,6,8,10,11,13,14]"
   ]
  },
  {
   "cell_type": "code",
   "execution_count": 64,
   "metadata": {
    "collapsed": true
   },
   "outputs": [],
   "source": [
    "l2 = [1,3,4,5,7,9,10,12,15,16]"
   ]
  },
  {
   "cell_type": "code",
   "execution_count": 65,
   "metadata": {
    "collapsed": true
   },
   "outputs": [],
   "source": [
    "if len(l1) < len(l2):\n",
    "    l1.extend([-1] * (max(len(l1), len(l2)) - min(len(l1), len(l2))))\n",
    "else:\n",
    "    l2.extend([-1] * (max(len(l1), len(l2)) - min(len(l1), len(l2))))"
   ]
  },
  {
   "cell_type": "code",
   "execution_count": 66,
   "metadata": {},
   "outputs": [
    {
     "data": {
      "text/plain": [
       "[1, 2, 4, 5, 6, 8, 10, 11, 13, 14]"
      ]
     },
     "execution_count": 66,
     "metadata": {},
     "output_type": "execute_result"
    }
   ],
   "source": [
    "l1"
   ]
  },
  {
   "cell_type": "code",
   "execution_count": 67,
   "metadata": {},
   "outputs": [
    {
     "data": {
      "text/plain": [
       "[1, 3, 4, 5, 7, 9, 10, 12, 15, 16]"
      ]
     },
     "execution_count": 67,
     "metadata": {},
     "output_type": "execute_result"
    }
   ],
   "source": [
    "l2"
   ]
  },
  {
   "cell_type": "code",
   "execution_count": 68,
   "metadata": {
    "collapsed": true
   },
   "outputs": [],
   "source": [
    "pairs = []\n",
    "for x, y in zip(l1, l2):\n",
    "    if x == -1 or y == -1:\n",
    "        pairs.append((x, y))\n",
    "        continue\n",
    "        \n",
    "    if x == y:\n",
    "        pairs.append((x, y))\n",
    "    else:\n",
    "        pairs.append((x, -1))\n",
    "        pairs.append((-1, y))"
   ]
  },
  {
   "cell_type": "code",
   "execution_count": 69,
   "metadata": {},
   "outputs": [
    {
     "data": {
      "text/plain": [
       "[(1, 1),\n",
       " (2, -1),\n",
       " (-1, 3),\n",
       " (4, 4),\n",
       " (5, 5),\n",
       " (6, -1),\n",
       " (-1, 7),\n",
       " (8, -1),\n",
       " (-1, 9),\n",
       " (10, 10),\n",
       " (11, -1),\n",
       " (-1, 12),\n",
       " (13, -1),\n",
       " (-1, 15),\n",
       " (14, -1),\n",
       " (-1, 16)]"
      ]
     },
     "execution_count": 69,
     "metadata": {},
     "output_type": "execute_result"
    }
   ],
   "source": [
    "pairs"
   ]
  },
  {
   "cell_type": "code",
   "execution_count": 72,
   "metadata": {},
   "outputs": [
    {
     "data": {
      "text/plain": [
       "False"
      ]
     },
     "execution_count": 72,
     "metadata": {},
     "output_type": "execute_result"
    }
   ],
   "source": [
    "'a' in c1_set"
   ]
  },
  {
   "cell_type": "code",
   "execution_count": 75,
   "metadata": {
    "collapsed": true
   },
   "outputs": [],
   "source": [
    "def creates_cycle(connections, test):\n",
    "    i, o = test\n",
    "    if i == o:\n",
    "        return True\n",
    "\n",
    "    visited = {o}\n",
    "    while True:\n",
    "        num_added = 0\n",
    "        for a, b in connections:\n",
    "            if a in visited and b not in visited:\n",
    "                print(visited)\n",
    "                if b == i:\n",
    "                    return True\n",
    "\n",
    "                visited.add(b)\n",
    "                num_added += 1\n",
    "\n",
    "        if num_added == 0:\n",
    "            return False"
   ]
  },
  {
   "cell_type": "code",
   "execution_count": 81,
   "metadata": {},
   "outputs": [
    {
     "name": "stdout",
     "output_type": "stream",
     "text": [
      "{2}\n",
      "{2, 3}\n",
      "{2, 3, 4}\n",
      "{2, 3, 4, 5}\n",
      "{2, 3, 4, 5, 6}\n"
     ]
    },
    {
     "data": {
      "text/plain": [
       "True"
      ]
     },
     "execution_count": 81,
     "metadata": {},
     "output_type": "execute_result"
    }
   ],
   "source": [
    "creates_cycle([(1,2), (2,3), (3,4), (3,5), (5,6), (6,7)], (7,2))"
   ]
  },
  {
   "cell_type": "code",
   "execution_count": 83,
   "metadata": {},
   "outputs": [
    {
     "data": {
      "text/plain": [
       "{0: '0',\n",
       " 1: '1',\n",
       " 2: '2',\n",
       " 3: '3',\n",
       " 4: '4',\n",
       " 5: '5',\n",
       " 6: '6',\n",
       " 7: '7',\n",
       " 8: '8',\n",
       " 9: '9'}"
      ]
     },
     "execution_count": 83,
     "metadata": {},
     "output_type": "execute_result"
    }
   ],
   "source": [
    "d = []\n",
    "for i in range(10):\n",
    "    d[i] = str(i)\n",
    "d"
   ]
  },
  {
   "cell_type": "code",
   "execution_count": 86,
   "metadata": {},
   "outputs": [
    {
     "data": {
      "text/plain": [
       "[0, 1, 2, 3, 4]"
      ]
     },
     "execution_count": 86,
     "metadata": {},
     "output_type": "execute_result"
    }
   ],
   "source": [
    "list(d.keys())[:5]"
   ]
  },
  {
   "cell_type": "code",
   "execution_count": 87,
   "metadata": {
    "collapsed": true
   },
   "outputs": [],
   "source": [
    "l = np.array([5,5,5,4])\n",
    "l = l / np.sum(l)"
   ]
  },
  {
   "cell_type": "code",
   "execution_count": 88,
   "metadata": {},
   "outputs": [
    {
     "data": {
      "text/plain": [
       "array([0.26315789, 0.26315789, 0.26315789, 0.21052632])"
      ]
     },
     "execution_count": 88,
     "metadata": {},
     "output_type": "execute_result"
    }
   ],
   "source": [
    "l"
   ]
  },
  {
   "cell_type": "code",
   "execution_count": 89,
   "metadata": {},
   "outputs": [
    {
     "data": {
      "text/plain": [
       "array([0.        , 0.26315789, 0.26315789, 0.21052632])"
      ]
     },
     "execution_count": 89,
     "metadata": {},
     "output_type": "execute_result"
    }
   ],
   "source": [
    "l[0] = 0.0\n",
    "l"
   ]
  },
  {
   "cell_type": "code",
   "execution_count": 90,
   "metadata": {},
   "outputs": [
    {
     "data": {
      "text/plain": [
       "array([0.        , 0.35714286, 0.35714286, 0.28571429])"
      ]
     },
     "execution_count": 90,
     "metadata": {},
     "output_type": "execute_result"
    }
   ],
   "source": [
    "l = l / np.sum(l)\n",
    "l"
   ]
  },
  {
   "cell_type": "code",
   "execution_count": 40,
   "metadata": {
    "collapsed": true
   },
   "outputs": [],
   "source": [
    "import numpy as np\n",
    "import random"
   ]
  },
  {
   "cell_type": "code",
   "execution_count": 41,
   "metadata": {
    "collapsed": true
   },
   "outputs": [],
   "source": [
    "l = [1,2,3,4,5]"
   ]
  },
  {
   "cell_type": "code",
   "execution_count": 53,
   "metadata": {},
   "outputs": [
    {
     "name": "stdout",
     "output_type": "stream",
     "text": [
      "5\n",
      "5\n",
      "3\n"
     ]
    }
   ],
   "source": [
    "for x in random.choices(l, k=3):\n",
    "    print(x)"
   ]
  },
  {
   "cell_type": "code",
   "execution_count": 2,
   "metadata": {},
   "outputs": [
    {
     "data": {
      "text/plain": [
       "[]"
      ]
     },
     "execution_count": 2,
     "metadata": {},
     "output_type": "execute_result"
    }
   ],
   "source": [
    "x = [1,2,3]\n",
    "x[:0]"
   ]
  },
  {
   "cell_type": "code",
   "execution_count": 3,
   "metadata": {},
   "outputs": [
    {
     "data": {
      "text/plain": [
       "[1, 2, 3]"
      ]
     },
     "execution_count": 3,
     "metadata": {},
     "output_type": "execute_result"
    }
   ],
   "source": [
    "sorted(x)"
   ]
  },
  {
   "cell_type": "code",
   "execution_count": 5,
   "metadata": {
    "collapsed": true
   },
   "outputs": [],
   "source": [
    "import random\n",
    "import numpy as np"
   ]
  },
  {
   "cell_type": "code",
   "execution_count": 10,
   "metadata": {},
   "outputs": [
    {
     "data": {
      "text/plain": [
       "array([1])"
      ]
     },
     "execution_count": 10,
     "metadata": {},
     "output_type": "execute_result"
    }
   ],
   "source": [
    "members = [1,2,3,4]\n",
    "p = np.array([1,1,1]) / 3.0\n",
    "member_parent_1 = np.random.choice(list(c1_set.keys()), 1, p=p)\n",
    "member_parent_1"
   ]
  },
  {
   "cell_type": "code",
   "execution_count": 1,
   "metadata": {},
   "outputs": [
    {
     "name": "stdout",
     "output_type": "stream",
     "text": [
      "Pure Python Sum: 0.1532475647415019\n",
      "Numpy Sum: 1.1720797273597179\n"
     ]
    }
   ],
   "source": [
    "import numpy as np\n",
    "import timeit\n",
    "\n",
    "x = range(1000)\n",
    "# or \n",
    "#x = np.random.standard_normal(1000)\n",
    "\n",
    "def pure_sum():\n",
    "    return sum(x)\n",
    "\n",
    "def numpy_sum():\n",
    "    return np.sum(x)\n",
    "\n",
    "n = 10000\n",
    "\n",
    "t1 = timeit.timeit(pure_sum, number = n)\n",
    "print('Pure Python Sum:', t1)\n",
    "t2 = timeit.timeit(numpy_sum, number = n)\n",
    "print('Numpy Sum:', t2)"
   ]
  },
  {
   "cell_type": "code",
   "execution_count": 19,
   "metadata": {},
   "outputs": [
    {
     "data": {
      "text/plain": [
       "{'all': {1, 2, 3, 4, 5}, 'hidden': {3, 4}, 'input': {1, 2}, 'output': {5}}"
      ]
     },
     "execution_count": 19,
     "metadata": {},
     "output_type": "execute_result"
    }
   ],
   "source": [
    "node_ids = {'all': set([1,2,3,4,5]), 'input': set([1,2]), 'hidden': set([3,4]), 'output': set([5])}\n",
    "node_ids"
   ]
  },
  {
   "cell_type": "code",
   "execution_count": 23,
   "metadata": {
    "collapsed": true
   },
   "outputs": [],
   "source": [
    "possible_connections = set()"
   ]
  },
  {
   "cell_type": "code",
   "execution_count": 33,
   "metadata": {},
   "outputs": [
    {
     "data": {
      "text/plain": [
       "{(1, 3),\n",
       " (1, 4),\n",
       " (1, 5),\n",
       " (2, 3),\n",
       " (2, 4),\n",
       " (2, 5),\n",
       " (3, 3),\n",
       " (3, 4),\n",
       " (3, 5),\n",
       " (4, 3),\n",
       " (4, 4),\n",
       " (4, 5)}"
      ]
     },
     "execution_count": 33,
     "metadata": {},
     "output_type": "execute_result"
    }
   ],
   "source": [
    "for source_id in node_ids['input']:\n",
    "    for target_id in node_ids['hidden']:\n",
    "        possible_connections.add((source_id, target_id))\n",
    "    for target_id in node_ids['output']:\n",
    "        possible_connections.add((source_id, target_id))\n",
    "        \n",
    "for source_id in node_ids['hidden']:    \n",
    "    for target_id in node_ids['hidden']:   \n",
    "        possible_connections.add((source_id, target_id))\n",
    "    for target_id in node_ids['output']:\n",
    "        possible_connections.add((source_id, target_id))\n",
    "          \n",
    "possible_connections"
   ]
  },
  {
   "cell_type": "code",
   "execution_count": 34,
   "metadata": {},
   "outputs": [
    {
     "data": {
      "text/plain": [
       "{'all': {1, 2, 3, 4, 5}, 'hidden': {3, 4, 6}, 'input': {1, 2}, 'output': {5}}"
      ]
     },
     "execution_count": 34,
     "metadata": {},
     "output_type": "execute_result"
    }
   ],
   "source": [
    "new_hidden_id = 6\n",
    "node_ids['hidden'].add(6)\n",
    "node_ids"
   ]
  },
  {
   "cell_type": "code",
   "execution_count": 37,
   "metadata": {},
   "outputs": [
    {
     "data": {
      "text/plain": [
       "{(1, 3),\n",
       " (1, 4),\n",
       " (1, 5),\n",
       " (1, 6),\n",
       " (2, 3),\n",
       " (2, 4),\n",
       " (2, 5),\n",
       " (2, 6),\n",
       " (3, 3),\n",
       " (3, 4),\n",
       " (3, 5),\n",
       " (3, 6),\n",
       " (4, 3),\n",
       " (4, 4),\n",
       " (4, 5),\n",
       " (4, 6),\n",
       " (6, 3),\n",
       " (6, 4),\n",
       " (6, 5),\n",
       " (6, 6)}"
      ]
     },
     "execution_count": 37,
     "metadata": {},
     "output_type": "execute_result"
    }
   ],
   "source": [
    "for source_id in node_ids['input']:\n",
    "    possible_connections.add((source_id, new_hidden_id))\n",
    "for source_id in node_ids['hidden']:    \n",
    "    for target_id in node_ids['hidden']:   \n",
    "        possible_connections.add((source_id, target_id))\n",
    "for target_id in node_ids['output']:\n",
    "        possible_connections.add((new_hidden_id, target_id))\n",
    "        \n",
    "possible_connections"
   ]
  },
  {
   "cell_type": "code",
   "execution_count": 38,
   "metadata": {},
   "outputs": [
    {
     "data": {
      "text/plain": [
       "{(1, 3), (1, 4), (1, 5), (1, 6), (6, 3), (6, 4), (6, 5), (6, 6)}"
      ]
     },
     "execution_count": 38,
     "metadata": {},
     "output_type": "execute_result"
    }
   ],
   "source": [
    "connections = set([(1,3),(1,4),(1,5),(1,6),(6,3),(6,4),(6,5),(6,6)])\n",
    "connections"
   ]
  },
  {
   "cell_type": "code",
   "execution_count": 39,
   "metadata": {},
   "outputs": [
    {
     "data": {
      "text/plain": [
       "{(2, 3),\n",
       " (2, 4),\n",
       " (2, 5),\n",
       " (2, 6),\n",
       " (3, 3),\n",
       " (3, 4),\n",
       " (3, 5),\n",
       " (3, 6),\n",
       " (4, 3),\n",
       " (4, 4),\n",
       " (4, 5),\n",
       " (4, 6)}"
      ]
     },
     "execution_count": 39,
     "metadata": {},
     "output_type": "execute_result"
    }
   ],
   "source": [
    "possible_connections - connections"
   ]
  },
  {
   "cell_type": "code",
   "execution_count": 54,
   "metadata": {},
   "outputs": [
    {
     "data": {
      "text/plain": [
       "{(1, 3),\n",
       " (1, 4),\n",
       " (1, 5),\n",
       " (1, 6),\n",
       " (2, 3),\n",
       " (2, 4),\n",
       " (2, 5),\n",
       " (2, 6),\n",
       " (3, 3),\n",
       " (3, 4),\n",
       " (3, 5),\n",
       " (3, 6),\n",
       " (4, 3),\n",
       " (4, 4),\n",
       " (4, 5),\n",
       " (4, 6),\n",
       " (6, 3),\n",
       " (6, 4),\n",
       " (6, 5),\n",
       " (6, 6)}"
      ]
     },
     "execution_count": 54,
     "metadata": {},
     "output_type": "execute_result"
    }
   ],
   "source": [
    "possible_connections"
   ]
  },
  {
   "cell_type": "code",
   "execution_count": 55,
   "metadata": {},
   "outputs": [
    {
     "data": {
      "text/plain": [
       "[(6, 4),\n",
       " (1, 3),\n",
       " (2, 6),\n",
       " (3, 3),\n",
       " (4, 6),\n",
       " (6, 6),\n",
       " (4, 5),\n",
       " (4, 4),\n",
       " (1, 4),\n",
       " (6, 3),\n",
       " (1, 5),\n",
       " (2, 3),\n",
       " (1, 6),\n",
       " (4, 3),\n",
       " (3, 6),\n",
       " (2, 5),\n",
       " (3, 4),\n",
       " (2, 4),\n",
       " (6, 5),\n",
       " (3, 5)]"
      ]
     },
     "execution_count": 55,
     "metadata": {},
     "output_type": "execute_result"
    }
   ],
   "source": [
    "list(possible_connections)"
   ]
  },
  {
   "cell_type": "code",
   "execution_count": 57,
   "metadata": {},
   "outputs": [
    {
     "data": {
      "text/plain": [
       "(6, 5)"
      ]
     },
     "execution_count": 57,
     "metadata": {},
     "output_type": "execute_result"
    }
   ],
   "source": [
    "random.choice(list(possible_connections))"
   ]
  },
  {
   "cell_type": "code",
   "execution_count": 5,
   "metadata": {
    "collapsed": true
   },
   "outputs": [],
   "source": [
    "n_list_1 = [0, 1, 2, 3]\n",
    "n_list_2 = [0, 1, 3]\n",
    "\n",
    "node_pairs = set()\n",
    "for x in n_list_1:\n",
    "    if x in n_list_2:\n",
    "        node_pairs.add((x, x))\n",
    "    else:\n",
    "        node_pairs.add((x, -1))\n",
    "        \n",
    "for y in n_list_2:\n",
    "    if y in n_list_1:\n",
    "        node_pairs.add((y, y))\n",
    "    else:\n",
    "        node_pairs.add((-1, y))"
   ]
  },
  {
   "cell_type": "code",
   "execution_count": 6,
   "metadata": {},
   "outputs": [
    {
     "data": {
      "text/plain": [
       "{(0, 0), (1, 1), (2, -1), (3, 3)}"
      ]
     },
     "execution_count": 6,
     "metadata": {},
     "output_type": "execute_result"
    }
   ],
   "source": [
    "node_pairs"
   ]
  },
  {
   "cell_type": "code",
   "execution_count": 8,
   "metadata": {
    "collapsed": true
   },
   "outputs": [],
   "source": [
    "import numpy as np"
   ]
  },
  {
   "cell_type": "code",
   "execution_count": 10,
   "metadata": {},
   "outputs": [
    {
     "data": {
      "text/plain": [
       "array([2, 2, 2, 2, 3, 2])"
      ]
     },
     "execution_count": 10,
     "metadata": {},
     "output_type": "execute_result"
    }
   ],
   "source": [
    "np.random.choice([1,2,3], 6)"
   ]
  },
  {
   "cell_type": "code",
   "execution_count": 25,
   "metadata": {
    "collapsed": true
   },
   "outputs": [],
   "source": [
    "c_list_1 = [0,1,3,8]\n",
    "c_list_2 =  [0,1,2,3,4,5,6,7,12]"
   ]
  },
  {
   "cell_type": "code",
   "execution_count": 26,
   "metadata": {},
   "outputs": [
    {
     "name": "stdout",
     "output_type": "stream",
     "text": [
      "8\n",
      "6 1\n"
     ]
    }
   ],
   "source": [
    "excess_threshold = min(max(c_list_1), max(c_list_2))\n",
    "print(excess_threshold)\n",
    "nb_disjoint, nb_excess = 0, 0\n",
    "for x in c_list_1:\n",
    "    if x not in c_list_2:\n",
    "        if x <= excess_threshold:\n",
    "            nb_disjoint += 1\n",
    "        else:\n",
    "            nb_excess += 1\n",
    "            \n",
    "for x in c_list_2:\n",
    "    if x not in c_list_1:\n",
    "        if x <= excess_threshold:\n",
    "            nb_disjoint += 1\n",
    "        else:\n",
    "            nb_excess += 1\n",
    "            \n",
    "print(nb_disjoint, nb_excess)"
   ]
  },
  {
   "cell_type": "code",
   "execution_count": 16,
   "metadata": {
    "collapsed": true
   },
   "outputs": [],
   "source": [
    "import random"
   ]
  },
  {
   "cell_type": "code",
   "execution_count": 19,
   "metadata": {},
   "outputs": [
    {
     "name": "stdout",
     "output_type": "stream",
     "text": [
      "-4.679955434689955 4.943377291373051\n"
     ]
    }
   ],
   "source": [
    "l = [random.gauss(0, 1.0) for _ in range(1000000)]\n",
    "print(min(l), max(l))"
   ]
  },
  {
   "cell_type": "code",
   "execution_count": 24,
   "metadata": {},
   "outputs": [
    {
     "data": {
      "text/plain": [
       "[1, 2, 3]"
      ]
     },
     "execution_count": 24,
     "metadata": {},
     "output_type": "execute_result"
    }
   ],
   "source": [
    "l = [1,2,3]\n",
    "l[-100:]"
   ]
  },
  {
   "cell_type": "markdown",
   "metadata": {},
   "source": [
    "# Original def's"
   ]
  },
  {
   "cell_type": "code",
   "execution_count": 43,
   "metadata": {
    "collapsed": true
   },
   "outputs": [],
   "source": [
    "import itertools"
   ]
  },
  {
   "cell_type": "code",
   "execution_count": 145,
   "metadata": {
    "collapsed": true
   },
   "outputs": [],
   "source": [
    "def calc_required_depth(node_ids_all, enabled_connections):\n",
    "    \"\"\"\n",
    "    Calculates the required dependency depth for every node in network\n",
    "    :return: Node dependency dictionary e.g: {0: [[0]], 1: [[1]], 2: [[2], [0, 1]], 3: [[3], [0, 1, 2]]}\n",
    "    \"\"\"\n",
    "    required = {}\n",
    "    for n_id in node_ids_all:\n",
    "        depth_list = [[n_id]]\n",
    "        while True:\n",
    "            essential = set(\n",
    "                source_id for (_, source_id, target_id) in enabled_connections if\n",
    "                target_id in depth_list[-1] and source_id not in depth_list[-1])\n",
    "            if not essential:\n",
    "                break\n",
    "            depth_list.append(list(essential))\n",
    "        required[n_id] = depth_list\n",
    "    return required\n",
    "\n",
    "\n",
    "def calc_neural_path(depth, n_id, path):\n",
    "    \"\"\"\n",
    "    The function calculates exact order of neuron activations for specified n_id (output id)\n",
    "    :return: Ordered activation list e.g: [0, 1, 2, 3]\n",
    "    \"\"\"\n",
    "    depth_list = depth[n_id]\n",
    "\n",
    "    if len(depth_list) == 1:\n",
    "        # We have reached the end of dependency chain\n",
    "        if depth_list[0][0] not in path:\n",
    "            path.append(depth_list[0][0])\n",
    "    else:\n",
    "        for depth_set in reversed(depth_list):\n",
    "            for depth_id in depth_set:\n",
    "                if n_id == depth_id:\n",
    "                    if depth_id not in path:\n",
    "                        path.append(depth_id)\n",
    "                    break\n",
    "                calc_neural_path(depth, depth_id, path)\n"
   ]
  },
  {
   "cell_type": "code",
   "execution_count": 149,
   "metadata": {
    "collapsed": true
   },
   "outputs": [],
   "source": [
    "node_ids_all = set([1,2,3,4,5])\n",
    "connections = [(1,3),(2,4),(3,5),(4,5),(3,4),(3,3),(4,4),(5,5)]\n",
    "enabled_connections = [(0, x, y) for x, y in connections]"
   ]
  },
  {
   "cell_type": "code",
   "execution_count": 150,
   "metadata": {},
   "outputs": [
    {
     "data": {
      "text/plain": [
       "{1: [[1]],\n",
       " 2: [[2]],\n",
       " 3: [[3], [1]],\n",
       " 4: [[4], [2, 3], [1]],\n",
       " 5: [[5], [3, 4], [1, 2]]}"
      ]
     },
     "execution_count": 150,
     "metadata": {},
     "output_type": "execute_result"
    }
   ],
   "source": [
    "depth = calc_required_depth(node_ids_all, enabled_connections)\n",
    "depth"
   ]
  },
  {
   "cell_type": "code",
   "execution_count": 151,
   "metadata": {},
   "outputs": [
    {
     "data": {
      "text/plain": [
       "[1, 2, 3, 4, 5]"
      ]
     },
     "execution_count": 151,
     "metadata": {},
     "output_type": "execute_result"
    }
   ],
   "source": [
    "path = []\n",
    "calc_neural_path(depth, 5, path)\n",
    "path"
   ]
  },
  {
   "cell_type": "markdown",
   "metadata": {},
   "source": [
    "# Modified def's"
   ]
  },
  {
   "cell_type": "code",
   "execution_count": 169,
   "metadata": {
    "collapsed": true
   },
   "outputs": [],
   "source": [
    "def calc_required_depth(node_ids_all, enabled_connections):\n",
    "    required = {}\n",
    "    for n_id in node_ids_all:\n",
    "        depth_list = [[n_id]]\n",
    "        while True:\n",
    "            essential = set(\n",
    "                source_id for (_, source_id, target_id) in enabled_connections if\n",
    "                target_id in depth_list[-1] and source_id not in depth_list[-1] and source_id != n_id)\n",
    "            if not essential or list(essential) in depth_list:\n",
    "                break\n",
    "            depth_list.append(list(essential))\n",
    "        required[n_id] = depth_list\n",
    "    return required\n",
    "\n",
    "def calc_neural_path(depth, n_id, path, searching_for): \n",
    "    if n_id in searching_for:\n",
    "        return\n",
    "    searching_for.add(n_id)\n",
    "    depth_list = depth[n_id]  \n",
    "    if len(depth_list) == 1:\n",
    "        searching_for.remove(n_id)\n",
    "        if depth_list[0][0] not in path:\n",
    "            path.append(depth_list[0][0])\n",
    "    else:\n",
    "        for depth_set in reversed(depth_list):\n",
    "            for depth_id in depth_set:\n",
    "                if n_id == depth_id:\n",
    "                    if depth_id not in path:\n",
    "                        path.append(depth_id)\n",
    "                    break\n",
    "                calc_neural_path(depth, depth_id, path, searching_for)"
   ]
  },
  {
   "cell_type": "code",
   "execution_count": 170,
   "metadata": {
    "collapsed": true
   },
   "outputs": [],
   "source": [
    "node_ids_all = set([1,2,3,4,5])\n",
    "connections = [(1,3),(2,4),(3,5),(4,5),(3,4),(3,3),(4,4),(5,5)]\n",
    "enabled_connections = [(0, x, y) for x, y in connections]"
   ]
  },
  {
   "cell_type": "code",
   "execution_count": 171,
   "metadata": {},
   "outputs": [
    {
     "data": {
      "text/plain": [
       "{1: [[1]],\n",
       " 2: [[2]],\n",
       " 3: [[3], [1]],\n",
       " 4: [[4], [2, 3], [1]],\n",
       " 5: [[5], [3, 4], [1, 2]]}"
      ]
     },
     "execution_count": 171,
     "metadata": {},
     "output_type": "execute_result"
    }
   ],
   "source": [
    "depth = calc_required_depth(node_ids_all, enabled_connections)\n",
    "depth"
   ]
  },
  {
   "cell_type": "code",
   "execution_count": 172,
   "metadata": {},
   "outputs": [
    {
     "data": {
      "text/plain": [
       "[1, 2, 3, 4, 5]"
      ]
     },
     "execution_count": 172,
     "metadata": {},
     "output_type": "execute_result"
    }
   ],
   "source": [
    "path = []\n",
    "searching_for = set()\n",
    "calc_neural_path(depth, 5, path, searching_for)\n",
    "path"
   ]
  },
  {
   "cell_type": "code",
   "execution_count": 173,
   "metadata": {
    "collapsed": true
   },
   "outputs": [],
   "source": [
    "node_ids_all = set([1,2,3,4,5])\n",
    "connections = [(1,3),(2,4),(3,5),(4,5),(3,4),(3,3),(4,4),(5,5),(4,3),(5,3),(5,4)]  \n",
    "enabled_connections = [(0, x, y) for x, y in connections]"
   ]
  },
  {
   "cell_type": "code",
   "execution_count": 174,
   "metadata": {},
   "outputs": [
    {
     "data": {
      "text/plain": [
       "{1: [[1]],\n",
       " 2: [[2]],\n",
       " 3: [[3], [1, 4, 5], [2]],\n",
       " 4: [[4], [2, 3, 5], [1]],\n",
       " 5: [[5], [3, 4], [1, 2]]}"
      ]
     },
     "execution_count": 174,
     "metadata": {},
     "output_type": "execute_result"
    }
   ],
   "source": [
    "depth = calc_required_depth(node_ids_all, enabled_connections)\n",
    "depth"
   ]
  },
  {
   "cell_type": "code",
   "execution_count": 175,
   "metadata": {},
   "outputs": [
    {
     "data": {
      "text/plain": [
       "[1, 2, 4, 3, 5]"
      ]
     },
     "execution_count": 175,
     "metadata": {},
     "output_type": "execute_result"
    }
   ],
   "source": [
    "path = []\n",
    "searching_for = set()\n",
    "calc_neural_path(depth, 5, path, searching_for)\n",
    "path"
   ]
  },
  {
   "cell_type": "code",
   "execution_count": 176,
   "metadata": {
    "collapsed": true
   },
   "outputs": [],
   "source": [
    "node_ids_all = set([1,2,3,4,5,6,7])\n",
    "connections = [(1,2),(1,3),(2,5),(3,5),(5,2),(5,3),(7,4),(4,6),(6,4),(4,2)]\n",
    "enabled_connections = [(0, x, y) for x, y in connections]"
   ]
  },
  {
   "cell_type": "code",
   "execution_count": 177,
   "metadata": {},
   "outputs": [
    {
     "data": {
      "text/plain": [
       "{1: [[1]],\n",
       " 2: [[2], [1, 4, 5], [3, 6, 7]],\n",
       " 3: [[3], [1, 5], [2], [1, 4, 5], [2, 6, 7]],\n",
       " 4: [[4], [6, 7]],\n",
       " 5: [[5], [2, 3], [1, 4], [6, 7], [4]],\n",
       " 6: [[6], [4], [7]],\n",
       " 7: [[7]]}"
      ]
     },
     "execution_count": 177,
     "metadata": {},
     "output_type": "execute_result"
    }
   ],
   "source": [
    "depth = calc_required_depth(node_ids_all, enabled_connections)\n",
    "depth"
   ]
  },
  {
   "cell_type": "code",
   "execution_count": 178,
   "metadata": {},
   "outputs": [
    {
     "data": {
      "text/plain": [
       "[7, 4, 6]"
      ]
     },
     "execution_count": 178,
     "metadata": {},
     "output_type": "execute_result"
    }
   ],
   "source": [
    "path = []\n",
    "search = set()\n",
    "calc_neural_path(depth, 6, path, search)\n",
    "path"
   ]
  },
  {
   "cell_type": "code",
   "execution_count": 179,
   "metadata": {},
   "outputs": [
    {
     "data": {
      "text/plain": [
       "[7, 6, 4, 1, 3, 2, 5]"
      ]
     },
     "execution_count": 179,
     "metadata": {},
     "output_type": "execute_result"
    }
   ],
   "source": [
    "path = []\n",
    "search = set()\n",
    "calc_neural_path(depth, 5, path, search)\n",
    "path"
   ]
  },
  {
   "cell_type": "code",
   "execution_count": 180,
   "metadata": {
    "collapsed": true
   },
   "outputs": [],
   "source": [
    "node_ids_all = set([1,2,3,4,5,6])\n",
    "connections = [(1,2),(2,3),(3,4),(4,5),(5,2),(3,6),(1,6)]\n",
    "enabled_connections = [(0, x, y) for x, y in connections]"
   ]
  },
  {
   "cell_type": "code",
   "execution_count": 181,
   "metadata": {},
   "outputs": [
    {
     "data": {
      "text/plain": [
       "{1: [[1]],\n",
       " 2: [[2], [1, 5], [4], [3]],\n",
       " 3: [[3], [2], [1, 5], [4]],\n",
       " 4: [[4], [3], [2], [1, 5]],\n",
       " 5: [[5], [4], [3], [2], [1]],\n",
       " 6: [[6], [1, 3], [2], [1, 5], [4], [3]]}"
      ]
     },
     "execution_count": 181,
     "metadata": {},
     "output_type": "execute_result"
    }
   ],
   "source": [
    "depth = calc_required_depth(node_ids_all, enabled_connections)\n",
    "depth"
   ]
  },
  {
   "cell_type": "code",
   "execution_count": 182,
   "metadata": {},
   "outputs": [
    {
     "data": {
      "text/plain": [
       "[1, 2, 5, 4, 3, 6]"
      ]
     },
     "execution_count": 182,
     "metadata": {},
     "output_type": "execute_result"
    }
   ],
   "source": [
    "path = []\n",
    "search = set()\n",
    "calc_neural_path(depth, 6, path, search)\n",
    "path"
   ]
  },
  {
   "cell_type": "code",
   "execution_count": null,
   "metadata": {
    "collapsed": true
   },
   "outputs": [],
   "source": []
  }
 ],
 "metadata": {
  "kernelspec": {
   "display_name": "Python 3",
   "language": "python",
   "name": "python3"
  },
  "language_info": {
   "codemirror_mode": {
    "name": "ipython",
    "version": 3
   },
   "file_extension": ".py",
   "mimetype": "text/x-python",
   "name": "python",
   "nbconvert_exporter": "python",
   "pygments_lexer": "ipython3",
   "version": "3.6.1"
  }
 },
 "nbformat": 4,
 "nbformat_minor": 2
}
